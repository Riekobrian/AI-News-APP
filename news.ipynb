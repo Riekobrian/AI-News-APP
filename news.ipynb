{
 "cells": [
  {
   "cell_type": "markdown",
   "metadata": {},
   "source": [
    "*App.js:* Fetches articles on mount using useEffect and stores them in state by tonality.\n",
    "\n",
    "*NewsSection.js:* Maps over articles to render ArticleCard components.\n",
    " \n",
    "*ArticleCard.js:* Displays title, summary, a link, and date.\n",
    "\n",
    "*CSS:* Basic styling with a clean, readable layout."
   ]
  }
 ],
 "metadata": {
  "language_info": {
   "name": "python"
  }
 },
 "nbformat": 4,
 "nbformat_minor": 2
}
